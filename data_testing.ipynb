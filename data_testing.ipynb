{
 "cells": [
  {
   "cell_type": "markdown",
   "id": "081e6567-ca3e-44b8-acb5-7ecc078d3296",
   "metadata": {},
   "source": [
    "# Dataset.py Creation & Testing\n",
    "- I should maybe pre-calculate the indexes which are allowed, and create a list which can be sampled from, i.e. an actual list of starting points? I must be *fairly* close to that alredy? Maybe I just need a function for it.\n",
    "- I should also test how data loading works when the data set segmentation happens solely from the csv data and the calling of the data actually loads in the appropriate file. Should be easy enough considering that the `date_column` is aparently stored as strings when being read in. (currently impossibly memory bound)"
   ]
  },
  {
   "cell_type": "code",
   "execution_count": 1,
   "id": "aff2c8cb-7d47-419c-bded-e699e356cc51",
   "metadata": {},
   "outputs": [],
   "source": [
    "import os\n",
    "import pandas as pd\n",
    "import numpy as np\n",
    "from dataset import ClimateHackDataset"
   ]
  },
  {
   "cell_type": "code",
   "execution_count": 2,
   "id": "1272692a-4556-47e3-b69f-ff97e8b1a7bc",
   "metadata": {},
   "outputs": [
    {
     "data": {
      "text/plain": [
       "array([[[123, 121, 133, ...,  12,  12,  12],\n",
       "        [159, 159, 162, ...,  13,  13,  12],\n",
       "        [177, 172, 170, ...,  12,  13,  12],\n",
       "        ...,\n",
       "        [ 16,  16,  16, ...,  13,  12,  12],\n",
       "        [ 18,  16,  16, ...,  12,  13,  13],\n",
       "        [ 16,  16,  16, ...,  12,  12,  12]],\n",
       "\n",
       "       [[ 84,  82,  82, ...,  13,  12,  12],\n",
       "        [103, 108, 104, ...,  12,  12,  13],\n",
       "        [136, 136, 137, ...,  12,  13,  12],\n",
       "        ...,\n",
       "        [ 18,  19,  19, ...,  12,  12,  12],\n",
       "        [ 19,  18,  19, ...,  12,  12,  12],\n",
       "        [ 19,  18,  18, ...,  13,  13,  12]],\n",
       "\n",
       "       [[ 88, 107, 107, ...,  12,  12,  12],\n",
       "        [ 84,  91,  94, ...,  12,  13,  13],\n",
       "        [105, 103, 107, ...,  12,  12,  13],\n",
       "        ...,\n",
       "        [ 21,  19,  21, ...,  12,  13,  12],\n",
       "        [ 21,  19,  19, ...,  12,  12,  12],\n",
       "        [ 19,  19,  19, ...,  12,  13,  12]],\n",
       "\n",
       "       ...,\n",
       "\n",
       "       [[ 38,  41,  46, ..., 179, 167, 163],\n",
       "        [ 35,  39,  52, ..., 186, 170, 156],\n",
       "        [ 36,  38,  42, ..., 182, 177, 169],\n",
       "        ...,\n",
       "        [ 12,  12,  12, ..., 143, 143, 144],\n",
       "        [ 13,  13,  12, ..., 144, 144, 146],\n",
       "        [ 13,  12,  12, ..., 144, 141, 139]],\n",
       "\n",
       "       [[ 29,  26,  25, ..., 156, 144, 140],\n",
       "        [ 26,  26,  28, ..., 150, 140, 144],\n",
       "        [ 29,  26,  29, ..., 163, 150, 151],\n",
       "        ...,\n",
       "        [ 12,  12,  13, ..., 140, 143, 144],\n",
       "        [ 12,  12,  13, ..., 146, 144, 143],\n",
       "        [ 12,  13,  12, ..., 143, 140, 139]],\n",
       "\n",
       "       [[ 23,  25,  23, ..., 139, 143, 153],\n",
       "        [ 25,  23,  22, ..., 143, 149, 153],\n",
       "        [ 23,  23,  23, ..., 146, 154, 162],\n",
       "        ...,\n",
       "        [ 12,  12,  13, ..., 137, 141, 141],\n",
       "        [ 12,  13,  13, ..., 141, 143, 143],\n",
       "        [ 12,  13,  13, ..., 143, 139, 137]]], dtype=int16)"
      ]
     },
     "execution_count": 2,
     "metadata": {},
     "output_type": "execute_result"
    }
   ],
   "source": [
    "np.load('cleaned_data/2021_11_07.npy')"
   ]
  },
  {
   "cell_type": "code",
   "execution_count": 7,
   "id": "db53452e-3177-4118-aedb-e1bfe8fd6d69",
   "metadata": {},
   "outputs": [
    {
     "data": {
      "text/plain": [
       "Dataset ClimateHackDataset\n",
       "    Number of datapoints: 2420\n",
       "    Split: val\n",
       "    Root Location: cleaned_data\n",
       "    Transforms (if any): None\n",
       "    Target Transforms (if any): None"
      ]
     },
     "execution_count": 7,
     "metadata": {},
     "output_type": "execute_result"
    }
   ],
   "source": [
    "ClimateHackDataset(split='val')"
   ]
  },
  {
   "cell_type": "code",
   "execution_count": null,
   "id": "08e144c4-025d-4804-b9fa-695f1c62e1b7",
   "metadata": {},
   "outputs": [],
   "source": []
  }
 ],
 "metadata": {
  "kernelspec": {
   "display_name": "Python 3 (ipykernel)",
   "language": "python",
   "name": "python3"
  },
  "language_info": {
   "codemirror_mode": {
    "name": "ipython",
    "version": 3
   },
   "file_extension": ".py",
   "mimetype": "text/x-python",
   "name": "python",
   "nbconvert_exporter": "python",
   "pygments_lexer": "ipython3",
   "version": "3.8.10"
  }
 },
 "nbformat": 4,
 "nbformat_minor": 5
}
